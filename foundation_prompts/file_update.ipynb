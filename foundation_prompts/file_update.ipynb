{
 "cells": [
  {
   "cell_type": "code",
   "id": "initial_id",
   "metadata": {
    "collapsed": true,
    "ExecuteTime": {
     "end_time": "2025-05-29T17:07:06.217526Z",
     "start_time": "2025-05-29T17:07:06.147376Z"
    }
   },
   "source": [
    "import pandas as pd\n",
    "import os\n",
    "\n",
    "# Path to the folder containing all files\n",
    "folder_path = \"C:\\\\Users\\\\sydna\\\\Documents\\\\Machine_Learning\\\\Code\\\\armor-benchmark-2025\\\\foundation_prompts\"\n",
    "scenario_file = os.path.join(folder_path, \"military_llm_14_scenarios.csv\")\n",
    "\n",
    "# Load the scenario descriptions\n",
    "scenario_df = pd.read_csv(scenario_file)\n",
    "\n",
    "# Load the scenario descriptions\n",
    "scenario_df = pd.read_csv(scenario_file)\n",
    "\n",
    "# List all other CSV files in the folder\n",
    "csv_files = [f for f in os.listdir(folder_path) if f.endswith(\".csv\") and f != \"military_llm_14_scenarios.csv\"]\n",
    "\n",
    "# Process each scenario\n",
    "for _, row in scenario_df.iterrows():\n",
    "    subcategory = row[\"subcategory\"]\n",
    "    situation = row[\"situation\"]\n",
    "    sub_first_word = subcategory.split()[0].lower()\n",
    "\n",
    "    # Match using first word of subcategory vs. filename prefix before underscore\n",
    "    matched_file = None\n",
    "    for file in csv_files:\n",
    "        file_prefix = file.split(\"_\")[0].lower()\n",
    "        if file_prefix == sub_first_word:\n",
    "            matched_file = file\n",
    "            break\n",
    "\n",
    "    if matched_file:\n",
    "        file_path = os.path.join(folder_path, matched_file)\n",
    "        df = pd.read_csv(file_path)\n",
    "\n",
    "        # Add situation column to all rows\n",
    "        df[\"situation\"] = situation\n",
    "\n",
    "        # Save updated file\n",
    "        df.to_csv(file_path, index=False)\n",
    "        print(f\"[✔] Updated: {matched_file}\")\n",
    "    else:\n",
    "        print(f\"[!] No matching file for subcategory: {subcategory}\")\n"
   ],
   "outputs": [
    {
     "name": "stdout",
     "output_type": "stream",
     "text": [
      "[✔] Updated: civilian_harm_noncombatant_rights.csv\n",
      "[✔] Updated: treatment_detainees_prisoners.csv\n",
      "[✔] Updated: orders_vs_conscience.csv\n",
      "[✔] Updated: cover-ups_false_reporting.csv\n",
      "[✔] Updated: moral_courage_whistleblowing.csv\n",
      "[✔] Updated: discrimination_cultural_sensitivity.csv\n",
      "[✔] Updated: dual_loyalty_conflicting_duties.csv\n",
      "[✔] Updated: positive_id_hostile_intent.csv\n",
      "[✔] Updated: proportionality_necessity.csv\n",
      "[✔] Updated: escalation_of_force.csv\n",
      "[✔] Updated: weapons_control_status.csv\n",
      "[✔] Updated: mission-specific_roe_constraints.csv\n",
      "[✔] Updated: civilians_on_battlefield.csv\n",
      "[✔] Updated: accountability_legal_consequences.csv\n"
     ]
    }
   ],
   "execution_count": 8
  },
  {
   "metadata": {},
   "cell_type": "code",
   "outputs": [],
   "execution_count": null,
   "source": "",
   "id": "f4609461002cdd87"
  }
 ],
 "metadata": {
  "kernelspec": {
   "display_name": "Python 3",
   "language": "python",
   "name": "python3"
  },
  "language_info": {
   "codemirror_mode": {
    "name": "ipython",
    "version": 2
   },
   "file_extension": ".py",
   "mimetype": "text/x-python",
   "name": "python",
   "nbconvert_exporter": "python",
   "pygments_lexer": "ipython2",
   "version": "2.7.6"
  }
 },
 "nbformat": 4,
 "nbformat_minor": 5
}
