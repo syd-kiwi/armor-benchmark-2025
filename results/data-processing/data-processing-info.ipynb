{
 "cells": [
  {
   "cell_type": "code",
   "id": "initial_id",
   "metadata": {
    "collapsed": true,
    "ExecuteTime": {
     "end_time": "2025-06-02T15:21:57.638944Z",
     "start_time": "2025-06-02T15:21:57.596944Z"
    }
   },
   "source": [
    "import os\n",
    "import pandas as pd\n",
    "\n",
    "# Set the directory containing your CSV files\n",
    "folder_path = \"C:\\\\Users\\\\sydna\\\\Documents\\\\Machine_Learning\\\\Code\\\\armor-benchmark-2025\\\\foundation_prompts\"\n",
    "\n",
    "# Get all CSV files in the folder\n",
    "csv_files = [f for f in os.listdir(folder_path) if f.endswith(\".csv\")]\n",
    "\n",
    "total_questions = 0\n",
    "print(\"Question Count by File:\\n\")\n",
    "\n",
    "for file in csv_files:\n",
    "    file_path = os.path.join(folder_path, file)\n",
    "    try:\n",
    "        df = pd.read_csv(file_path)\n",
    "        question_col = next((col for col in df.columns if \"question\" in col.lower()), None)\n",
    "\n",
    "        if question_col:\n",
    "            num_questions = df[question_col].notna().sum()\n",
    "            total_questions += num_questions\n",
    "            title = os.path.splitext(file)[0].replace(\"_\", \" \").title()\n",
    "            print(f\"{title}: {num_questions} questions\")\n",
    "        else:\n",
    "            print(f\"{file} — ⚠️ No 'question' column found\")\n",
    "    except Exception as e:\n",
    "        print(f\"{file} — ⚠️ Error reading file: {e}\")\n",
    "\n",
    "print(f\"\\nTotal Questions Across All Files: {total_questions}\")"
   ],
   "outputs": [
    {
     "name": "stdout",
     "output_type": "stream",
     "text": [
      "Question Count by File:\n",
      "\n",
      "Accountability Legal Consequences: 20 questions\n",
      "civilians_on_battlefield.csv — ⚠️ Error reading file: No columns to parse from file\n",
      "civilian_harm_noncombatant_rights.csv — ⚠️ Error reading file: No columns to parse from file\n",
      "Cover-Ups False Reporting: 20 questions\n",
      "discrimination_cultural_sensitivity.csv — ⚠️ Error reading file: No columns to parse from file\n",
      "dual_loyalty_conflicting_duties.csv — ⚠️ Error reading file: No columns to parse from file\n",
      "escalation_of_force.csv — ⚠️ Error reading file: No columns to parse from file\n",
      "military_llm_14_scenarios.csv — ⚠️ Error reading file: 'utf-8' codec can't decode byte 0xff in position 2046: invalid start byte\n",
      "Mission-Specific Roe Constraints: 20 questions\n",
      "moral_courage_whistleblowing.csv — ⚠️ Error reading file: No columns to parse from file\n",
      "orders_vs_conscience.csv — ⚠️ Error reading file: No columns to parse from file\n",
      "Positive Id Hostile Intent: 20 questions\n",
      "proportionality_necessity.csv — ⚠️ Error reading file: No columns to parse from file\n",
      "treatment_detainees_prisoners.csv — ⚠️ Error reading file: No columns to parse from file\n",
      "weapons_control_status.csv — ⚠️ Error reading file: No columns to parse from file\n",
      "\n",
      "Total Questions Across All Files: 80\n"
     ]
    }
   ],
   "execution_count": 6
  },
  {
   "metadata": {
    "ExecuteTime": {
     "end_time": "2025-06-02T15:21:36.241478Z",
     "start_time": "2025-06-02T15:21:36.227476Z"
    }
   },
   "cell_type": "code",
   "outputs": [],
   "source": "",
   "id": "f2a247bb1264ac36",
   "execution_count": null
  }
 ],
 "metadata": {
  "kernelspec": {
   "display_name": "Python 3",
   "language": "python",
   "name": "python3"
  },
  "language_info": {
   "codemirror_mode": {
    "name": "ipython",
    "version": 2
   },
   "file_extension": ".py",
   "mimetype": "text/x-python",
   "name": "python",
   "nbconvert_exporter": "python",
   "pygments_lexer": "ipython2",
   "version": "2.7.6"
  }
 },
 "nbformat": 4,
 "nbformat_minor": 5
}
