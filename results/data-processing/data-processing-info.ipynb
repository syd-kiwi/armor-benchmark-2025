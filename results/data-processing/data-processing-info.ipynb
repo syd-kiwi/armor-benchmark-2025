{
 "cells": [
  {
   "cell_type": "code",
   "id": "initial_id",
   "metadata": {
    "collapsed": true,
    "ExecuteTime": {
     "end_time": "2025-06-02T15:48:30.685136Z",
     "start_time": "2025-06-02T15:48:30.618533Z"
    }
   },
   "source": [
    "import os\n",
    "import pandas as pd\n",
    "\n",
    "# Set the directory containing your CSV files\n",
    "folder_path = \"C:\\\\Users\\\\sydna\\\\Documents\\\\Machine_Learning\\\\Code\\\\armor-benchmark-2025\\\\foundation_prompts\"\n",
    "\n",
    "# Get all CSV files in the folder\n",
    "csv_files = [f for f in os.listdir(folder_path) if f.endswith(\".csv\")]\n",
    "\n",
    "total_questions = 0\n",
    "print(\"Question Count by File:\\n\")\n",
    "\n",
    "for file in csv_files:\n",
    "    file_path = os.path.join(folder_path, file)\n",
    "    try:\n",
    "        df = pd.read_csv(file_path)\n",
    "        question_col = next((col for col in df.columns if \"question\" in col.lower()), None)\n",
    "\n",
    "        if question_col:\n",
    "            num_questions = df[question_col].notna().sum()\n",
    "            total_questions += num_questions\n",
    "            title = os.path.splitext(file)[0].replace(\"_\", \" \").title()\n",
    "            print(f\"{title}: {num_questions} questions\")\n",
    "        else:\n",
    "            print(f\"{file} — ⚠️ No 'question' column found\")\n",
    "    except Exception as e:\n",
    "        print(f\"{file} — ⚠️ Error reading file: {e}\")\n",
    "\n",
    "print(f\"\\nTotal Questions Across All Files: {total_questions}\")"
   ],
   "outputs": [
    {
     "name": "stdout",
     "output_type": "stream",
     "text": [
      "Question Count by File:\n",
      "\n",
      "Accountability Legal Consequences: 20 questions\n",
      "Civilians On Battlefield: 20 questions\n",
      "Civilian Harm Noncombatant Rights: 10 questions\n",
      "Cover-Ups False Reporting: 20 questions\n",
      "Discrimination Cultural Sensitivity: 20 questions\n",
      "Dual Loyalty Conflicting Duties: 20 questions\n",
      "Escalation Of Force: 20 questions\n",
      "military_llm_14_scenarios.csv — ⚠️ Error reading file: 'utf-8' codec can't decode byte 0xff in position 2046: invalid start byte\n",
      "Military Llm Questions: 100 questions\n",
      "Mission-Specific Roe Constraints: 20 questions\n",
      "Moral Courage Whistleblowing: 20 questions\n",
      "Orders Vs Conscience: 20 questions\n",
      "Positive Id Hostile Intent: 20 questions\n",
      "Proportionality Necessity: 20 questions\n",
      "Treatment Detainees Prisoners: 10 questions\n",
      "Weapons Control Status: 20 questions\n",
      "\n",
      "Total Questions Across All Files: 360\n"
     ]
    }
   ],
   "execution_count": 2
  },
  {
   "metadata": {},
   "cell_type": "code",
   "outputs": [],
   "execution_count": null,
   "source": "",
   "id": "f2a247bb1264ac36"
  }
 ],
 "metadata": {
  "kernelspec": {
   "display_name": "Python 3",
   "language": "python",
   "name": "python3"
  },
  "language_info": {
   "codemirror_mode": {
    "name": "ipython",
    "version": 2
   },
   "file_extension": ".py",
   "mimetype": "text/x-python",
   "name": "python",
   "nbconvert_exporter": "python",
   "pygments_lexer": "ipython2",
   "version": "2.7.6"
  }
 },
 "nbformat": 4,
 "nbformat_minor": 5
}
