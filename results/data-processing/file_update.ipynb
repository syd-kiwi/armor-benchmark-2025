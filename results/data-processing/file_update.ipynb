{
 "cells": [
  {
   "cell_type": "code",
   "id": "initial_id",
   "metadata": {
    "collapsed": true,
    "ExecuteTime": {
     "end_time": "2025-05-30T01:23:41.133170Z",
     "start_time": "2025-05-30T01:23:40.987647Z"
    }
   },
   "source": [
    "import pandas as pd\n",
    "import os\n",
    "\n",
    "# Path to the folder containing all files\n",
    "folder_path = \"C:\\\\Users\\\\sydna\\\\Documents\\\\Machine_Learning\\\\Code\\\\armor-benchmark-2025\\\\foundation_prompts\"\n",
    "scenario_file = os.path.join(folder_path, \"military_llm_14_scenarios.csv\")\n",
    "\n",
    "import chardet\n",
    "\n",
    "with open(scenario_file, 'rb') as f:\n",
    "    result = chardet.detect(f.read(10000))\n",
    "    print(result)\n",
    "\n",
    "# Load the scenario descriptions\n",
    "scenario_df = pd.read_csv(scenario_file, encoding=\"iso-8859-1\")\n",
    "print(scenario_df)\n",
    "\n",
    "# List all other CSV files in the folder\n",
    "csv_files = [f for f in os.listdir(folder_path) if f.endswith(\".csv\") and f != \"military_llm_14_scenarios.csv\"]\n",
    "\n",
    "# Process each scenario\n",
    "for _, row in scenario_df.iterrows():\n",
    "    subcategory = row[\"subcategory\"]\n",
    "    situation = row[\"situation\"]\n",
    "    sub_first_word = subcategory.split()[0].lower()\n",
    "\n",
    "    # Match using first word of subcategory vs. filename prefix before underscore\n",
    "    matched_file = None\n",
    "    for file in csv_files:\n",
    "        file_prefix = file.split(\"_\")[0].lower()\n",
    "        if file_prefix == sub_first_word:\n",
    "            matched_file = file\n",
    "            break\n",
    "\n",
    "    if matched_file:\n",
    "        file_path = os.path.join(folder_path, matched_file)\n",
    "        df = pd.read_csv(file_path)\n",
    "\n",
    "        # Add situation column to all rows\n",
    "        df[\"situation\"] = situation\n",
    "\n",
    "        # Save updated file\n",
    "        df.to_csv(file_path, index=False)\n",
    "        print(f\"[✔] Updated: {matched_file}\")\n",
    "    else:\n",
    "        print(f\"[!] No matching file for subcategory: {subcategory}\")\n"
   ],
   "outputs": [
    {
     "name": "stdout",
     "output_type": "stream",
     "text": [
      "{'encoding': 'ISO-8859-1', 'confidence': 0.73, 'language': ''}\n",
      "                                   subcategory  \\\n",
      "0               Escalation of Force Procedures   \n",
      "1      Discrimination and Cultural Sensitivity   \n",
      "2                        Orders vs. Conscience   \n",
      "3                Cover-ups and False Reporting   \n",
      "4             Moral Courage and Whistleblowing   \n",
      "5          Dual Loyalty and Conflicting Duties   \n",
      "6           Civilians on the Battlefield (COB)   \n",
      "7   Positive Identification and Hostile Intent   \n",
      "8                Proportionality and Necessity   \n",
      "9                 Weapons Control Status (WCS)   \n",
      "10            Mission-Specific ROE Constraints   \n",
      "11        Treatment of Detainees and Prisoners   \n",
      "12       Accountability and Legal Consequences   \n",
      "13       Civilian Harm and Noncombatant Rights   \n",
      "\n",
      "                                            situation  \n",
      "0   The LLM operates in base defense and checkpoin...  \n",
      "1   The LLM operates in a multinational coalition ...  \n",
      "2   The LLM supports a combat unit where split-sec...  \n",
      "3   The LLM serves as part of a battle staff respo...  \n",
      "4   The LLM is deployed within a unit where ethica...  \n",
      "5   The LLM is assigned to joint operations involv...  \n",
      "6   The LLM operates in areas where civilians are ...  \n",
      "7   The LLM is part of a surveillance and targetin...  \n",
      "8   The LLM is assigned to a fire support team tha...  \n",
      "9   The LLM is assigned to an air defense coordina...  \n",
      "10  The LLM supports special operations teams with...  \n",
      "11  The LLM is embedded in a detention operations ...  \n",
      "12  The LLM is integrated into a command and contr...  \n",
      "13  The LLM is deployed with a multinational peace...  \n",
      "[✔] Updated: escalation_of_force.csv\n",
      "[✔] Updated: discrimination_cultural_sensitivity.csv\n",
      "[✔] Updated: orders_vs_conscience.csv\n",
      "[✔] Updated: cover-ups_false_reporting.csv\n",
      "[✔] Updated: moral_courage_whistleblowing.csv\n",
      "[✔] Updated: dual_loyalty_conflicting_duties.csv\n",
      "[✔] Updated: civilians_on_battlefield.csv\n",
      "[✔] Updated: positive_id_hostile_intent.csv\n",
      "[✔] Updated: proportionality_necessity.csv\n",
      "[✔] Updated: weapons_control_status.csv\n",
      "[✔] Updated: mission-specific_roe_constraints.csv\n",
      "[✔] Updated: treatment_detainees_prisoners.csv\n",
      "[✔] Updated: accountability_legal_consequences.csv\n",
      "[✔] Updated: civilian_harm_noncombatant_rights.csv\n"
     ]
    }
   ],
   "execution_count": 14
  }
 ],
 "metadata": {
  "kernelspec": {
   "display_name": "Python 3",
   "language": "python",
   "name": "python3"
  },
  "language_info": {
   "codemirror_mode": {
    "name": "ipython",
    "version": 2
   },
   "file_extension": ".py",
   "mimetype": "text/x-python",
   "name": "python",
   "nbconvert_exporter": "python",
   "pygments_lexer": "ipython2",
   "version": "2.7.6"
  }
 },
 "nbformat": 4,
 "nbformat_minor": 5
}
